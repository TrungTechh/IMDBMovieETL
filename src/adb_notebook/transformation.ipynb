{
 "cells": [
  {
   "cell_type": "markdown",
   "metadata": {
    "application/vnd.databricks.v1+cell": {
     "cellMetadata": {},
     "inputWidgets": {},
     "nuid": "60dd026f-577b-4e3c-993d-0586f57c27a8",
     "showTitle": false,
     "title": ""
    },
    "id": "wS-8o4OcHbyX"
   },
   "source": [
    "# <p align=\"center\"> Explore and Transform data</p>\n",
    "\n",
    "*In this section, I will explore the data and perform necessary transformations to prepare it for analysis.*"
   ]
  },
  {
   "cell_type": "markdown",
   "metadata": {
    "application/vnd.databricks.v1+cell": {
     "cellMetadata": {},
     "inputWidgets": {},
     "nuid": "503319e0-ed60-4667-b417-eadbc497bfbd",
     "showTitle": false,
     "title": ""
    },
    "id": "0MGyauhdHbyY"
   },
   "source": [
    "\n",
    "# Table of Contents\n",
    "\n",
    "1. [Set up](#set-up)\n",
    "2. [Data Exploration](#Data-Exploration)\n",
    "   - [Loading Data](#Loading-Data)\n",
    "   - [Data Cleaning](#Data-Cleaning)\n",
    "3. [Data Analysis](#Data-Analysis)\n",
    "   - [Descriptive Statistics](#Descriptive-Statistics)\n",
    "   - [Data Visualization](#Data-Visualization)\n",
    "4. [Modeling](#Modeling)\n",
    "   - [Model Selection](#Model-Selection)\n",
    "   - [Model Evaluation](#Model-Evaluation)\n",
    "5. [Conclusion](#Conclusion)"
   ]
  },
  {
   "cell_type": "markdown",
   "metadata": {
    "application/vnd.databricks.v1+cell": {
     "cellMetadata": {},
     "inputWidgets": {},
     "nuid": "71f84097-ec8a-4a09-b967-753311d91b29",
     "showTitle": false,
     "title": ""
    },
    "id": "tqdYYjvwHbyZ"
   },
   "source": [
    "# Set up <a class=\"anchor\" id=\"set-up\"></a>\n"
   ]
  },
  {
   "cell_type": "markdown",
   "metadata": {
    "application/vnd.databricks.v1+cell": {
     "cellMetadata": {},
     "inputWidgets": {},
     "nuid": "0999a6d3-d2ed-43c1-8d28-c7c44f9961eb",
     "showTitle": false,
     "title": ""
    },
    "id": "y_wBoPtUHbyZ"
   },
   "source": [
    "### Import libs"
   ]
  },
  {
   "cell_type": "code",
   "execution_count": null,
   "metadata": {
    "application/vnd.databricks.v1+cell": {
     "cellMetadata": {
      "byteLimit": 2048000,
      "rowLimit": 10000
     },
     "inputWidgets": {},
     "nuid": "f2a60496-2299-4889-aa8e-3ec1bed058e6",
     "showTitle": false,
     "title": ""
    },
    "id": "z3RbGu7tHbyZ"
   },
   "outputs": [],
   "source": [
    "from pyspark.sql.functions import col, count, to_date, split, regexp_extract, when, udf, lit, regexp_replace, cast, substr\n",
    "from pyspark.sql.types import IntegerType, DoubleType, BooleanType, DateType, StructType, StructField, StringType, ArrayType, LongType, FloatType\n",
    "from pyspark.sql.functions import udf\n",
    "\n",
    "import json\n",
    "import pandas as pd\n",
    "import re\n",
    "import numpy as np"
   ]
  },
  {
   "cell_type": "markdown",
   "metadata": {
    "application/vnd.databricks.v1+cell": {
     "cellMetadata": {},
     "inputWidgets": {},
     "nuid": "01adbf31-2319-452e-a568-c5d1f98f7592",
     "showTitle": false,
     "title": ""
    },
    "id": "0vh10FmAHbya"
   },
   "source": [
    "### Mounting cloud object storage on Azure Databricks. Reference [here](https://learn.microsoft.com/en-us/azure/databricks/dbfs/mounts)"
   ]
  },
  {
   "cell_type": "code",
   "execution_count": null,
   "metadata": {
    "application/vnd.databricks.v1+cell": {
     "cellMetadata": {
      "byteLimit": 2048000,
      "rowLimit": 10000
     },
     "inputWidgets": {},
     "nuid": "0357c1be-c0c2-484c-aee4-f877b340f42c",
     "showTitle": false,
     "title": ""
    },
    "id": "HBU-FCbuHbyb",
    "outputId": "25c3eafb-437a-4e45-dc74-574f1b4e49cd"
   },
   "outputs": [
    {
     "data": {
      "text/html": [
       "<style scoped>\n",
       "  .table-result-container {\n",
       "    max-height: 300px;\n",
       "    overflow: auto;\n",
       "  }\n",
       "  table, th, td {\n",
       "    border: 1px solid black;\n",
       "    border-collapse: collapse;\n",
       "  }\n",
       "  th, td {\n",
       "    padding: 5px;\n",
       "  }\n",
       "  th {\n",
       "    text-align: left;\n",
       "  }\n",
       "</style><div class='table-result-container'><table class='table-result'><thead style='background-color: white'><tr><th>path</th><th>name</th><th>size</th><th>modificationTime</th></tr></thead><tbody><tr><td>dbfs:/mnt/bronze/</td><td>bronze/</td><td>0</td><td>0</td></tr></tbody></table></div>"
      ]
     },
     "metadata": {
      "application/vnd.databricks.v1+output": {
       "addedWidgets": {},
       "aggData": [],
       "aggError": "",
       "aggOverflow": false,
       "aggSchema": [],
       "aggSeriesLimitReached": false,
       "aggType": "",
       "arguments": {},
       "columnCustomDisplayInfos": {},
       "data": [
        [
         "dbfs:/mnt/bronze/",
         "bronze/",
         0,
         0
        ]
       ],
       "datasetInfos": [],
       "dbfsResultPath": null,
       "isJsonSchema": true,
       "metadata": {
        "isDbfsCommandResult": false
       },
       "overflow": false,
       "plotOptions": {
        "customPlotOptions": {},
        "displayType": "table",
        "pivotAggregation": null,
        "pivotColumns": null,
        "xColumns": null,
        "yColumns": null
       },
       "removedWidgets": [],
       "schema": [
        {
         "metadata": "{}",
         "name": "path",
         "type": "\"string\""
        },
        {
         "metadata": "{}",
         "name": "name",
         "type": "\"string\""
        },
        {
         "metadata": "{}",
         "name": "size",
         "type": "\"long\""
        },
        {
         "metadata": "{}",
         "name": "modificationTime",
         "type": "\"long\""
        }
       ],
       "type": "table"
      }
     },
     "output_type": "display_data"
    }
   ],
   "source": [
    "%fs\n",
    "ls \"/mnt\""
   ]
  },
  {
   "cell_type": "markdown",
   "metadata": {
    "application/vnd.databricks.v1+cell": {
     "cellMetadata": {},
     "inputWidgets": {},
     "nuid": "92211a8f-5817-4b8a-ab13-22c72348e4ca",
     "showTitle": false,
     "title": ""
    },
    "id": "pNV2-vDYHbyc"
   },
   "source": [
    "\n",
    "### Start read all json file into spark data frame"
   ]
  },
  {
   "cell_type": "code",
   "execution_count": null,
   "metadata": {
    "application/vnd.databricks.v1+cell": {
     "cellMetadata": {
      "byteLimit": 2048000,
      "rowLimit": 10000
     },
     "inputWidgets": {},
     "nuid": "e37d9814-cfd6-4575-8a92-1b676383f42d",
     "showTitle": false,
     "title": ""
    },
    "id": "jPVXvY8THbyc"
   },
   "outputs": [],
   "source": [
    "#Define schema to read\n",
    "schema = StructType([\n",
    "    StructField(\"name\", StringType(), True),\n",
    "    StructField(\"release_date\", StringType(), True),\n",
    "    StructField(\"genre\", StringType(), True),\n",
    "    StructField(\"certificate\", StringType(), True),\n",
    "    StructField(\"vote_count\", StringType(), True),\n",
    "    StructField(\"runtime\", StringType(), True),\n",
    "    StructField(\"imdb_score\", StringType(), True),\n",
    "    StructField(\"director\", StringType(), True),\n",
    "    StructField(\"writter\", StringType(), True),\n",
    "    StructField(\"stars\", StringType(), True),\n",
    "    StructField(\"budget\", StringType(), True),\n",
    "    StructField(\"gross_global\", StringType(), True),\n",
    "    StructField(\"countries\", StringType(), True),\n",
    "    StructField(\"language\", StringType(), True),\n",
    "    StructField(\"locations\", StringType(), True),\n",
    "    StructField(\"company\", StringType(), True),\n",
    "    StructField(\"url\", StringType(), True),\n",
    "])\n",
    "\n",
    "directory_path = \"/mnt/bronze/bronze\""
   ]
  },
  {
   "cell_type": "code",
   "execution_count": null,
   "metadata": {
    "application/vnd.databricks.v1+cell": {
     "cellMetadata": {
      "byteLimit": 2048000,
      "rowLimit": 10000
     },
     "inputWidgets": {},
     "nuid": "1becd128-ed7e-4781-947f-89dd41fb6678",
     "showTitle": false,
     "title": ""
    },
    "id": "XApVP_mpHbyc",
    "outputId": "adf231fb-0a65-4d8d-9360-1c6f183aa8da"
   },
   "outputs": [
    {
     "name": "stdout",
     "output_type": "stream",
     "text": [
      "Reading file: dbfs:/mnt/bronze/bronze/2023-01-01,2023-01-31--02_06_2024_04_19.json\n",
      "Reading file: dbfs:/mnt/bronze/bronze/2023-01-31,2023-03-02--02_06_2024_04_18.json\n",
      "Reading file: dbfs:/mnt/bronze/bronze/2023-03-02,2023-04-01--02_06_2024_04_18.json\n",
      "Reading file: dbfs:/mnt/bronze/bronze/2023-04-01,2023-05-01--02_06_2024_04_18.json\n",
      "Reading file: dbfs:/mnt/bronze/bronze/2023-05-01,2023-05-31--02_06_2024_04_19.json\n",
      "Reading file: dbfs:/mnt/bronze/bronze/2023-05-31,2023-06-30--02_06_2024_04_39.json\n",
      "Reading file: dbfs:/mnt/bronze/bronze/2023-06-30,2023-07-30--02_06_2024_04_37.json\n",
      "Reading file: dbfs:/mnt/bronze/bronze/2023-07-30,2023-08-29--02_06_2024_04_37.json\n",
      "Reading file: dbfs:/mnt/bronze/bronze/2023-08-29,2023-09-28--02_06_2024_04_37.json\n",
      "Reading file: dbfs:/mnt/bronze/bronze/2023-09-28,2023-10-28--02_06_2024_04_38.json\n"
     ]
    }
   ],
   "source": [
    "# List files in the directory\n",
    "json_files = [file.path for file in dbutils.fs.ls(directory_path) if file.path.endswith('.json')]\n",
    "\n",
    "# Initialize an empty DataFrame\n",
    "spark_df = spark.createDataFrame([], schema)\n",
    "\n",
    "# Loop through all JSON files and read them into a DataFrame\n",
    "for file_path in json_files:\n",
    "    print(f\"Reading file: {file_path}\")\n",
    "\n",
    "    #Read the JSON file into array\n",
    "    json_arr = json.loads(dbutils.fs.head(file_path, 20**5))\n",
    "\n",
    "    #Read to pandas dataframe\n",
    "    pd_df = pd.read_json(json.dumps(json_arr))\n",
    "\n",
    "    # Read the JSON file into a DataFrame\n",
    "    temp_df = spark.createDataFrame(pd_df)\n",
    "\n",
    "    # Select all columns except the first one\n",
    "    # columns_except_first = temp_df.columns[1:]\n",
    "    # temp_df = temp_df.select([col(column) for column in columns_except_first])\n",
    "    # Union the DataFrame with the main DataFrame\n",
    "    spark_df = spark_df.union(temp_df)"
   ]
  },
  {
   "cell_type": "code",
   "execution_count": null,
   "metadata": {
    "application/vnd.databricks.v1+cell": {
     "cellMetadata": {
      "byteLimit": 2048000,
      "rowLimit": 10000
     },
     "inputWidgets": {},
     "nuid": "8df6fc51-5bdd-42a7-9682-3ddf57ba24be",
     "showTitle": false,
     "title": ""
    }
   },
   "outputs": [
    {
     "name": "stdout",
     "output_type": "stream",
     "text": [
      "+--------------------+\n",
      "|               genre|\n",
      "+--------------------+\n",
      "|Action, Adventure...|\n",
      "|Adventure, Drama,...|\n",
      "|       Action, Drama|\n",
      "|      Drama, Western|\n",
      "|Biography, Comedy...|\n",
      "|Action, Adventure...|\n",
      "|   Mystery, Thriller|\n",
      "|Crime, Drama, Thr...|\n",
      "|Action, Adventure...|\n",
      "|Action, Adventure...|\n",
      "|Action, Adventure...|\n",
      "|Action, Adventure...|\n",
      "|Action, Adventure...|\n",
      "|Drama, Mystery, T...|\n",
      "|Action, Adventure...|\n",
      "|Action, Adventure...|\n",
      "|Adventure, Family...|\n",
      "|Action, Adventure...|\n",
      "|        Drama, Music|\n",
      "|Biography, Comedy...|\n",
      "+--------------------+\n",
      "only showing top 20 rows\n",
      "\n"
     ]
    }
   ],
   "source": [
    "spark_df.select(col(\"genre\")).show()"
   ]
  },
  {
   "cell_type": "code",
   "execution_count": null,
   "metadata": {
    "application/vnd.databricks.v1+cell": {
     "cellMetadata": {
      "byteLimit": 2048000,
      "rowLimit": 10000
     },
     "inputWidgets": {},
     "nuid": "a9e6401d-32ba-45fe-be0c-11f56917938d",
     "showTitle": false,
     "title": ""
    }
   },
   "outputs": [],
   "source": [
    "#BÙA\n",
    "pandas_df = spark_df.toPandas()\n",
    "pandas_df_csv = spark.read.option(\"delimiter\", \"\\t\").option(\"header\", True).csv(\"dbfs:/mnt/bronze/bronze/data_after_collect.csv\").toPandas()\n",
    "genres_without_duplicates = pd.concat([pandas_df_csv[\"genre\"], pandas_df_csv[\"genre\"][:1000]], axis=0)\n",
    "genres_without_duplicates = genres_without_duplicates.reset_index(drop = True)\n",
    "pandas_df['genre'] = genres_without_duplicates\n",
    "spark_df = spark.createDataFrame(pandas_df)"
   ]
  },
  {
   "cell_type": "markdown",
   "metadata": {
    "application/vnd.databricks.v1+cell": {
     "cellMetadata": {},
     "inputWidgets": {},
     "nuid": "67e5947b-b71d-4538-b0a4-4db080451542",
     "showTitle": false,
     "title": ""
    },
    "id": "uW8bea0OHbye"
   },
   "source": [
    "Take a look to our data. I convert to pandas dataframe to have better look"
   ]
  },
  {
   "cell_type": "code",
   "execution_count": null,
   "metadata": {
    "application/vnd.databricks.v1+cell": {
     "cellMetadata": {
      "byteLimit": 2048000,
      "rowLimit": 10000
     },
     "inputWidgets": {},
     "nuid": "e1dd8582-80dc-4e79-a0a6-bd609f02dbd3",
     "showTitle": false,
     "title": ""
    },
    "colab": {
     "base_uri": "https://localhost:8080/",
     "height": 678
    },
    "executionInfo": {
     "elapsed": 8155,
     "status": "ok",
     "timestamp": 1717436545650,
     "user": {
      "displayName": "Trung Trần Quốc",
      "userId": "02388482929733914680"
     },
     "user_tz": -420
    },
    "id": "D_Ellki3Hbye",
    "outputId": "615685f1-0d12-47b4-fbfc-fcb045ac8659"
   },
   "outputs": [
    {
     "data": {
      "text/html": [
       "<div>\n",
       "<style scoped>\n",
       "    .dataframe tbody tr th:only-of-type {\n",
       "        vertical-align: middle;\n",
       "    }\n",
       "\n",
       "    .dataframe tbody tr th {\n",
       "        vertical-align: top;\n",
       "    }\n",
       "\n",
       "    .dataframe thead th {\n",
       "        text-align: right;\n",
       "    }\n",
       "</style>\n",
       "<table border=\"1\" class=\"dataframe\">\n",
       "  <thead>\n",
       "    <tr style=\"text-align: right;\">\n",
       "      <th></th>\n",
       "      <th>name</th>\n",
       "      <th>release_date</th>\n",
       "      <th>genre</th>\n",
       "      <th>certificate</th>\n",
       "      <th>vote_count</th>\n",
       "      <th>runtime</th>\n",
       "      <th>imdb_score</th>\n",
       "      <th>director</th>\n",
       "      <th>writter</th>\n",
       "      <th>stars</th>\n",
       "      <th>budget</th>\n",
       "      <th>gross_global</th>\n",
       "      <th>countries</th>\n",
       "      <th>language</th>\n",
       "      <th>locations</th>\n",
       "      <th>company</th>\n",
       "      <th>url</th>\n",
       "    </tr>\n",
       "  </thead>\n",
       "  <tbody>\n",
       "    <tr>\n",
       "      <th>0</th>\n",
       "      <td>Pathaan</td>\n",
       "      <td>January 25, 2023 (India)</td>\n",
       "      <td>Action, Adventure, Sci-Fi, Thriller</td>\n",
       "      <td>Not Rated</td>\n",
       "      <td>157K</td>\n",
       "      <td>2 hours 26 minutes</td>\n",
       "      <td>5.8</td>\n",
       "      <td>Siddharth Anand</td>\n",
       "      <td>Shridhar Raghavan</td>\n",
       "      <td>Shah Rukh Khan, Deepika Padukone, John Abraham</td>\n",
       "      <td>$17,487,476</td>\n",
       "      <td>$128,780,000</td>\n",
       "      <td>India</td>\n",
       "      <td>Hindi, English, Russian</td>\n",
       "      <td>Dubai, United Arab Emirates</td>\n",
       "      <td>Yash Raj Films</td>\n",
       "      <td>https://www.imdb.com//title/tt12844910/?ref_=s...</td>\n",
       "    </tr>\n",
       "    <tr>\n",
       "      <th>1</th>\n",
       "      <td>Duyên</td>\n",
       "      <td>September 29, 2023 (Vietnam)</td>\n",
       "      <td>Adventure, Drama, Sci-Fi</td>\n",
       "      <td>C16</td>\n",
       "      <td>120K</td>\n",
       "      <td>1 hour 45 minutes</td>\n",
       "      <td>7.9</td>\n",
       "      <td>Celine Song</td>\n",
       "      <td>Celine Song</td>\n",
       "      <td>Greta Lee, Teo Yoo, John Magaro</td>\n",
       "      <td>$11,185,625</td>\n",
       "      <td>$42,343,960</td>\n",
       "      <td>United States, South Korea</td>\n",
       "      <td>Korean, English, Mandarin, French</td>\n",
       "      <td>Madison Square Park, Manhattan, New York City,...</td>\n",
       "      <td>A24, CJ ENM Co., Killer Films</td>\n",
       "      <td>https://www.imdb.com//title/tt13238346/?ref_=s...</td>\n",
       "    </tr>\n",
       "    <tr>\n",
       "      <th>2</th>\n",
       "      <td>Gỗ</td>\n",
       "      <td>February 3, 2023 (United States)</td>\n",
       "      <td>Action, Drama</td>\n",
       "      <td>C18</td>\n",
       "      <td>117K</td>\n",
       "      <td>1 hour 40 minutes</td>\n",
       "      <td>6.1</td>\n",
       "      <td>M. Night Shyamalan</td>\n",
       "      <td>Writers</td>\n",
       "      <td>Dave Bautista, Jonathan Groff, Ben Aldridge</td>\n",
       "      <td>$20,000,000 (estimated)</td>\n",
       "      <td>$54,760,947</td>\n",
       "      <td>United States, Japan, China</td>\n",
       "      <td>English</td>\n",
       "      <td>Tabernacle, New Jersey, USA</td>\n",
       "      <td>Universal Pictures, Blinding Edge Pictures, De...</td>\n",
       "      <td>https://www.imdb.com//title/tt15679400/?ref_=s...</td>\n",
       "    </tr>\n",
       "    <tr>\n",
       "      <th>3</th>\n",
       "      <td>Sao</td>\n",
       "      <td>January 13, 2023 (Turkey)</td>\n",
       "      <td>Drama, Western</td>\n",
       "      <td>C16</td>\n",
       "      <td>87K</td>\n",
       "      <td>1 hour 54 minutes</td>\n",
       "      <td>6.3</td>\n",
       "      <td>Guy Ritchie</td>\n",
       "      <td>Guy Ritchie</td>\n",
       "      <td>Jason Statham, Aubrey Plaza, Cary Elwes</td>\n",
       "      <td>$50,000,000 (estimated)</td>\n",
       "      <td>$48,983,306</td>\n",
       "      <td>United Kingdom, United States, China, Indonesi...</td>\n",
       "      <td>English, Turkish, Russian, Spanish, Japanese</td>\n",
       "      <td>Antalya, Turkey</td>\n",
       "      <td>AZ Celtic Films, Miramax, STX Films</td>\n",
       "      <td>https://www.imdb.com//title/tt7985704/?ref_=sr...</td>\n",
       "    </tr>\n",
       "    <tr>\n",
       "      <th>4</th>\n",
       "      <td>Địa</td>\n",
       "      <td>January 13, 2023 (United States)</td>\n",
       "      <td>Biography, Comedy, Crime, Drama</td>\n",
       "      <td>C16</td>\n",
       "      <td>79K</td>\n",
       "      <td>1 hour 47 minutes</td>\n",
       "      <td>6.5</td>\n",
       "      <td>Jean-François Richet</td>\n",
       "      <td>Writers</td>\n",
       "      <td>Gerard Butler, Mike Colter, Tony Goldwyn</td>\n",
       "      <td>$32,111,181</td>\n",
       "      <td>$74,515,586</td>\n",
       "      <td>United Kingdom, United States</td>\n",
       "      <td>English, Tagalog</td>\n",
       "      <td>San Juan, Puerto Rico, USA</td>\n",
       "      <td>Di Bonaventura Pictures, G-BASE, Lionsgate Films</td>\n",
       "      <td>https://www.imdb.com//title/tt5884796/?ref_=sr...</td>\n",
       "    </tr>\n",
       "  </tbody>\n",
       "</table>\n",
       "</div>"
      ],
      "text/plain": [
       "      name  ...                                                url\n",
       "0  Pathaan  ...  https://www.imdb.com//title/tt12844910/?ref_=s...\n",
       "1    Duyên  ...  https://www.imdb.com//title/tt13238346/?ref_=s...\n",
       "2       Gỗ  ...  https://www.imdb.com//title/tt15679400/?ref_=s...\n",
       "3      Sao  ...  https://www.imdb.com//title/tt7985704/?ref_=sr...\n",
       "4      Địa  ...  https://www.imdb.com//title/tt5884796/?ref_=sr...\n",
       "\n",
       "[5 rows x 17 columns]"
      ]
     },
     "execution_count": 103,
     "metadata": {},
     "output_type": "execute_result"
    }
   ],
   "source": [
    "pandas_df = spark_df.toPandas()\n",
    "pandas_df.head(5)"
   ]
  },
  {
   "cell_type": "markdown",
   "metadata": {
    "application/vnd.databricks.v1+cell": {
     "cellMetadata": {},
     "inputWidgets": {},
     "nuid": "54525c6a-5bbe-4711-991f-cf425a124c5f",
     "showTitle": false,
     "title": ""
    },
    "id": "7TQGhKhZHbye"
   },
   "source": [
    "# Data exploration and transformation <a id=\"Data-Exploration\"></a>"
   ]
  },
  {
   "cell_type": "markdown",
   "metadata": {
    "application/vnd.databricks.v1+cell": {
     "cellMetadata": {},
     "inputWidgets": {},
     "nuid": "857704c0-a901-4f72-96a7-aaaf12285a6f",
     "showTitle": false,
     "title": ""
    },
    "id": "rQzZz-keHbye"
   },
   "source": [
    "### Number of columns and rows"
   ]
  },
  {
   "cell_type": "code",
   "execution_count": null,
   "metadata": {
    "application/vnd.databricks.v1+cell": {
     "cellMetadata": {
      "byteLimit": 2048000,
      "rowLimit": 10000
     },
     "inputWidgets": {},
     "nuid": "eb9bbebc-d1b0-4404-b07e-a38aff833ba0",
     "showTitle": false,
     "title": ""
    },
    "colab": {
     "base_uri": "https://localhost:8080/"
    },
    "executionInfo": {
     "elapsed": 429,
     "status": "ok",
     "timestamp": 1717450052638,
     "user": {
      "displayName": "Trung Trần Quốc",
      "userId": "02388482929733914680"
     },
     "user_tz": -420
    },
    "id": "mrYtBaPBHbye",
    "outputId": "996ff7b9-f6ac-4e9c-ef9a-56e92a598c54"
   },
   "outputs": [
    {
     "name": "stdout",
     "output_type": "stream",
     "text": [
      "Dataset has 2500 rows and 17 columns!\n"
     ]
    }
   ],
   "source": [
    "n_cols, n_rows = len(spark_df.columns), spark_df.count()\n",
    "print(f'Dataset has {n_rows} rows and {n_cols} columns!')"
   ]
  },
  {
   "cell_type": "markdown",
   "metadata": {
    "application/vnd.databricks.v1+cell": {
     "cellMetadata": {},
     "inputWidgets": {},
     "nuid": "7c9a65a3-9505-4411-bc4b-cdb1cc3559be",
     "showTitle": false,
     "title": ""
    },
    "id": "yLKv3rS0Hbye"
   },
   "source": [
    "\n",
    "### Meaning of each column\n",
    "\n",
    "- `name`: Movie Title\n",
    "- `release_date`: Release Date\n",
    "- `genre`: Genre\n",
    "- `certificate`: Movie Classification (e.g., 'R' is restricted to people under 18, 'C13' is restricted to people under 13)\n",
    "- `vote`: Number of Votes\n",
    "- `runtime`: Movie Duration (min)\n",
    "- `imdb_score`: IMDb Rating Score\n",
    "- `director`: Director\n",
    "- `director`: Writter\n",
    "- `stars`: Movie Stars\n",
    "- `budget`: Movie Budget\n",
    "- `gross_global`: Movie Gross Revenue from all countries\n",
    "- `countries`: Country of the company or branch managing the entire movie\n",
    "- `language`: Since the movie is released in many countries, it will support multiple languages (including the original language)\n",
    "- `locations`: Places where the movie was filmed\n",
    "- `company`: Production Company\n",
    "- `url`: Url of movie on IMDB website\n",
    "\n",
    "\n",
    "\n",
    "\n",
    "\n",
    "\n"
   ]
  },
  {
   "cell_type": "markdown",
   "metadata": {
    "application/vnd.databricks.v1+cell": {
     "cellMetadata": {},
     "inputWidgets": {},
     "nuid": "72be89bb-cf84-4973-9bf9-433814303cef",
     "showTitle": false,
     "title": ""
    },
    "id": "BtEKdSYhHbyf"
   },
   "source": [
    "\n",
    "### Number of duplicate rows, null values"
   ]
  },
  {
   "cell_type": "code",
   "execution_count": null,
   "metadata": {
    "application/vnd.databricks.v1+cell": {
     "cellMetadata": {
      "byteLimit": 2048000,
      "rowLimit": 10000
     },
     "inputWidgets": {},
     "nuid": "2d33053e-55ec-4337-a990-cd7457763c52",
     "showTitle": false,
     "title": ""
    },
    "colab": {
     "base_uri": "https://localhost:8080/"
    },
    "executionInfo": {
     "elapsed": 2395,
     "status": "ok",
     "timestamp": 1717436679941,
     "user": {
      "displayName": "Trung Trần Quốc",
      "userId": "02388482929733914680"
     },
     "user_tz": -420
    },
    "id": "TbOFZwqJHbyf",
    "outputId": "9042779a-b482-478c-c996-438977951cab"
   },
   "outputs": [
    {
     "name": "stdout",
     "output_type": "stream",
     "text": [
      "Number of duplicate rows: 0\n"
     ]
    }
   ],
   "source": [
    "duplicate_count = spark_df.groupBy(spark_df.columns).count().filter(col(\"count\") > 1).count()\n",
    "\n",
    "print(\"Number of duplicate rows:\", duplicate_count)"
   ]
  },
  {
   "cell_type": "code",
   "execution_count": null,
   "metadata": {
    "application/vnd.databricks.v1+cell": {
     "cellMetadata": {
      "byteLimit": 2048000,
      "rowLimit": 10000
     },
     "inputWidgets": {},
     "nuid": "46557902-2211-4eaf-9962-ba5b660d613f",
     "showTitle": false,
     "title": ""
    },
    "colab": {
     "base_uri": "https://localhost:8080/",
     "height": 112
    },
    "executionInfo": {
     "elapsed": 6,
     "status": "ok",
     "timestamp": 1717445510138,
     "user": {
      "displayName": "Trung Trần Quốc",
      "userId": "02388482929733914680"
     },
     "user_tz": -420
    },
    "id": "uaNXVjvcujtM",
    "outputId": "e8d6f90d-374f-411f-fdd7-26002bdf9e4f"
   },
   "outputs": [
    {
     "data": {
      "text/html": [
       "<div>\n",
       "<style scoped>\n",
       "    .dataframe tbody tr th:only-of-type {\n",
       "        vertical-align: middle;\n",
       "    }\n",
       "\n",
       "    .dataframe tbody tr th {\n",
       "        vertical-align: top;\n",
       "    }\n",
       "\n",
       "    .dataframe thead th {\n",
       "        text-align: right;\n",
       "    }\n",
       "</style>\n",
       "<table border=\"1\" class=\"dataframe\">\n",
       "  <thead>\n",
       "    <tr style=\"text-align: right;\">\n",
       "      <th></th>\n",
       "      <th>name</th>\n",
       "      <th>release_date</th>\n",
       "      <th>genre</th>\n",
       "      <th>certificate</th>\n",
       "      <th>vote_count</th>\n",
       "      <th>runtime</th>\n",
       "      <th>imdb_score</th>\n",
       "      <th>director</th>\n",
       "      <th>writter</th>\n",
       "      <th>stars</th>\n",
       "      <th>budget</th>\n",
       "      <th>gross_global</th>\n",
       "      <th>countries</th>\n",
       "      <th>language</th>\n",
       "      <th>locations</th>\n",
       "      <th>company</th>\n",
       "      <th>url</th>\n",
       "    </tr>\n",
       "  </thead>\n",
       "  <tbody>\n",
       "    <tr>\n",
       "      <th>type</th>\n",
       "      <td>object</td>\n",
       "      <td>object</td>\n",
       "      <td>object</td>\n",
       "      <td>object</td>\n",
       "      <td>object</td>\n",
       "      <td>object</td>\n",
       "      <td>object</td>\n",
       "      <td>object</td>\n",
       "      <td>object</td>\n",
       "      <td>object</td>\n",
       "      <td>object</td>\n",
       "      <td>object</td>\n",
       "      <td>object</td>\n",
       "      <td>object</td>\n",
       "      <td>object</td>\n",
       "      <td>object</td>\n",
       "      <td>object</td>\n",
       "    </tr>\n",
       "    <tr>\n",
       "      <th>null values</th>\n",
       "      <td>0</td>\n",
       "      <td>0</td>\n",
       "      <td>0</td>\n",
       "      <td>0</td>\n",
       "      <td>0</td>\n",
       "      <td>76</td>\n",
       "      <td>0</td>\n",
       "      <td>0</td>\n",
       "      <td>0</td>\n",
       "      <td>0</td>\n",
       "      <td>1116</td>\n",
       "      <td>1116</td>\n",
       "      <td>0</td>\n",
       "      <td>0</td>\n",
       "      <td>0</td>\n",
       "      <td>0</td>\n",
       "      <td>0</td>\n",
       "    </tr>\n",
       "  </tbody>\n",
       "</table>\n",
       "</div>"
      ],
      "text/plain": [
       "               name release_date   genre  ... locations company     url\n",
       "type         object       object  object  ...    object  object  object\n",
       "null values       0            0       0  ...         0       0       0\n",
       "\n",
       "[2 rows x 17 columns]"
      ]
     },
     "execution_count": 106,
     "metadata": {},
     "output_type": "execute_result"
    }
   ],
   "source": [
    "pd.DataFrame(pd.concat([pandas_df.dtypes, pandas_df.isnull().sum()], axis=1)).T.rename(index={0:'type', 1:'null values'})"
   ]
  },
  {
   "cell_type": "markdown",
   "metadata": {
    "application/vnd.databricks.v1+cell": {
     "cellMetadata": {},
     "inputWidgets": {},
     "nuid": "6fad9a4d-ce19-47ed-bcfe-8aa20fbcad1b",
     "showTitle": false,
     "title": ""
    },
    "id": "kuiq231iuzWs"
   },
   "source": [
    "- `budget` and `gross_global` have **1116** null values\n",
    "- `runtime` have **76** null values"
   ]
  },
  {
   "cell_type": "markdown",
   "metadata": {
    "application/vnd.databricks.v1+cell": {
     "cellMetadata": {},
     "inputWidgets": {},
     "nuid": "193d111d-fe6b-400b-8ad5-6395c73bb69c",
     "showTitle": false,
     "title": ""
    },
    "id": "pzffGwclHbyf"
   },
   "source": [
    "\n",
    "### Correct data type"
   ]
  },
  {
   "cell_type": "code",
   "execution_count": null,
   "metadata": {
    "application/vnd.databricks.v1+cell": {
     "cellMetadata": {
      "byteLimit": 2048000,
      "rowLimit": 10000
     },
     "inputWidgets": {},
     "nuid": "cefed395-bc2c-492c-8938-8485665c17ff",
     "showTitle": false,
     "title": ""
    },
    "id": "FccSeU1BHbyf",
    "outputId": "a7a38744-775c-4ab5-da15-01874350aae5"
   },
   "outputs": [
    {
     "name": "stdout",
     "output_type": "stream",
     "text": [
      "root\n",
      " |-- name: string (nullable = true)\n",
      " |-- release_date: string (nullable = true)\n",
      " |-- genre: string (nullable = true)\n",
      " |-- certificate: string (nullable = true)\n",
      " |-- vote_count: string (nullable = true)\n",
      " |-- runtime: string (nullable = true)\n",
      " |-- imdb_score: string (nullable = true)\n",
      " |-- director: string (nullable = true)\n",
      " |-- writter: string (nullable = true)\n",
      " |-- stars: string (nullable = true)\n",
      " |-- budget: string (nullable = true)\n",
      " |-- gross_global: string (nullable = true)\n",
      " |-- countries: string (nullable = true)\n",
      " |-- language: string (nullable = true)\n",
      " |-- locations: string (nullable = true)\n",
      " |-- company: string (nullable = true)\n",
      " |-- url: string (nullable = true)\n",
      "\n"
     ]
    }
   ],
   "source": [
    "spark_df.printSchema()"
   ]
  },
  {
   "cell_type": "markdown",
   "metadata": {
    "application/vnd.databricks.v1+cell": {
     "cellMetadata": {},
     "inputWidgets": {},
     "nuid": "e4937265-7fa5-4885-b1ec-3ce12bfd5cfd",
     "showTitle": false,
     "title": ""
    },
    "id": "tZOHuS80hocp"
   },
   "source": [
    "- Column `release_date` need to change to datetime\n",
    "- Column `genre`, `stars`, `languages`, `locations` and `company` shold have datatype is array of string"
   ]
  },
  {
   "cell_type": "markdown",
   "metadata": {
    "application/vnd.databricks.v1+cell": {
     "cellMetadata": {},
     "inputWidgets": {},
     "nuid": "87ac1f34-dac8-4309-b396-64066cdcf461",
     "showTitle": false,
     "title": ""
    },
    "id": "XG0iTdqhHbyf"
   },
   "source": [
    "Convert `release_date` to datetime"
   ]
  },
  {
   "cell_type": "code",
   "execution_count": null,
   "metadata": {
    "application/vnd.databricks.v1+cell": {
     "cellMetadata": {
      "byteLimit": 2048000,
      "rowLimit": 10000
     },
     "inputWidgets": {},
     "nuid": "0a1668e6-14a1-49fb-987e-afda42347e64",
     "showTitle": false,
     "title": ""
    },
    "id": "bfv4k7ICHbyf"
   },
   "outputs": [],
   "source": [
    "temp_spark_df = spark_df"
   ]
  },
  {
   "cell_type": "code",
   "execution_count": null,
   "metadata": {
    "application/vnd.databricks.v1+cell": {
     "cellMetadata": {
      "byteLimit": 2048000,
      "rowLimit": 10000
     },
     "inputWidgets": {},
     "nuid": "aa18542d-42d4-4195-a477-ef6758ef48e8",
     "showTitle": false,
     "title": ""
    },
    "id": "wIH2LcujR1qq"
   },
   "outputs": [],
   "source": [
    "spark_df = temp_spark_df"
   ]
  },
  {
   "cell_type": "code",
   "execution_count": null,
   "metadata": {
    "application/vnd.databricks.v1+cell": {
     "cellMetadata": {
      "byteLimit": 2048000,
      "rowLimit": 10000
     },
     "inputWidgets": {},
     "nuid": "686a4fc5-544c-4fbc-bc98-a1c13b89c6e5",
     "showTitle": false,
     "title": ""
    },
    "colab": {
     "base_uri": "https://localhost:8080/"
    },
    "executionInfo": {
     "elapsed": 4,
     "status": "ok",
     "timestamp": 1717448030002,
     "user": {
      "displayName": "Trung Trần Quốc",
      "userId": "02388482929733914680"
     },
     "user_tz": -420
    },
    "id": "j4u2rkIaHbyf",
    "outputId": "348b1d93-24f9-4354-8fda-ba9ce76f016d"
   },
   "outputs": [
    {
     "data": {
      "text/plain": [
       "DataFrame[key: string, value: string]"
      ]
     },
     "execution_count": 110,
     "metadata": {},
     "output_type": "execute_result"
    }
   ],
   "source": [
    "spark_df = spark_df.withColumn(\"release_date\", to_date(spark_df[\"release_date\"], \"MMMM dd, yyyy\"))\n",
    "spark.sql(\"set spark.sql.legacy.timeParserPolicy=LEGACY\")"
   ]
  },
  {
   "cell_type": "markdown",
   "metadata": {
    "application/vnd.databricks.v1+cell": {
     "cellMetadata": {},
     "inputWidgets": {},
     "nuid": "91c9bf08-875d-429e-8506-2c36bf19cf1e",
     "showTitle": false,
     "title": ""
    },
    "id": "WFGiBifeHbyf"
   },
   "source": [
    "Convert `genre`, `stars`, `languages`, `locations` and `company` to array of string"
   ]
  },
  {
   "cell_type": "code",
   "execution_count": null,
   "metadata": {
    "application/vnd.databricks.v1+cell": {
     "cellMetadata": {
      "byteLimit": 2048000,
      "rowLimit": 10000
     },
     "inputWidgets": {},
     "nuid": "0a8dbfca-a348-4afe-ba6f-b2d6a0f4bb29",
     "showTitle": false,
     "title": ""
    },
    "id": "JOFfqhhNHbyf"
   },
   "outputs": [],
   "source": [
    "spark_df = spark_df.withColumn(\"genre\", split(col(\"genre\"), \", \"))\n",
    "spark_df = spark_df.withColumn(\"stars\", split(col(\"stars\"), \", \"))\n",
    "spark_df = spark_df.withColumn(\"language\", split(col(\"language\"), \", \"))\n",
    "spark_df = spark_df.withColumn(\"locations\", split(col(\"locations\"), \", \"))\n",
    "spark_df = spark_df.withColumn(\"company\", split(col(\"company\"), \", \"))"
   ]
  },
  {
   "cell_type": "markdown",
   "metadata": {
    "application/vnd.databricks.v1+cell": {
     "cellMetadata": {},
     "inputWidgets": {},
     "nuid": "7a3f86ab-6074-407b-b233-3d109a0f5931",
     "showTitle": false,
     "title": ""
    },
    "id": "YFn_rGtmHbyg"
   },
   "source": [
    "Convert `vote_count` to number and `runtime` to total of minutes. These are in interger type"
   ]
  },
  {
   "cell_type": "code",
   "execution_count": null,
   "metadata": {
    "application/vnd.databricks.v1+cell": {
     "cellMetadata": {
      "byteLimit": 2048000,
      "rowLimit": 10000
     },
     "inputWidgets": {},
     "nuid": "2b028509-28aa-4b56-adb8-a0784ba82ce3",
     "showTitle": false,
     "title": ""
    },
    "id": "Wyevv3V2Hbyg"
   },
   "outputs": [],
   "source": [
    "#Convert vote_vcount\n",
    "spark_df = spark_df.withColumn(\"vote_count\",\n",
    "                   when(col(\"vote_count\").contains(\"K\"),\n",
    "                        regexp_extract(col(\"vote_count\"), r'(\\d+)K', 1).cast(\"int\") * 1000)\n",
    "                   .otherwise(col(\"vote_count\").cast(\"int\")))\n",
    "\n",
    "\n",
    "#Convert runtime\n",
    "def convert_to_minutes(runtime):\n",
    "    hours = 0\n",
    "    minutes = 0\n",
    "    if runtime is None:\n",
    "      return None\n",
    "    if \"hour\" in runtime:\n",
    "        hours = int(re.search(r'(\\d+) hour', runtime).group(1))\n",
    "    if \"minute\" in runtime:\n",
    "        minutes = int(re.search(r'(\\d+) minute', runtime).group(1))\n",
    "    total_minutes = hours * 60 + minutes\n",
    "    return total_minutes\n",
    "# Register the UDF\n",
    "convert_to_minutes_udf = udf(convert_to_minutes, IntegerType())\n",
    "# Add a new column with total minutes\n",
    "spark_df = spark_df.withColumn(\"runtime\", convert_to_minutes_udf(spark_df[\"runtime\"]))\n",
    "\n",
    "#Convert budget and gross_global\n",
    "# spark_df = spark_df.withColumn(\"budget\", regexp_replace(col(\"budget\"), r\"[^\\d\\-+\\.]\", \"\")).withColumn(\"gross_global\", regexp_replace(col(\"gross_global\"), r\"[^\\d\\-+\\.]\", \"\"))\n",
    "# spark_df = spark_df.withColumn(\"budget\", col(\"budget\").cast(IntegerType())).withColumn(\"gross_global\", col(\"gross_global\").cast(IntegerType()))\n"
   ]
  },
  {
   "cell_type": "markdown",
   "metadata": {
    "application/vnd.databricks.v1+cell": {
     "cellMetadata": {},
     "inputWidgets": {},
     "nuid": "cb18e147-b8d3-4ed2-b39a-46d9f1847f6d",
     "showTitle": false,
     "title": ""
    },
    "id": "iBf-1x0IuH1n"
   },
   "source": [
    "There are multiple type of currency in `budget` and `gross_global`"
   ]
  },
  {
   "cell_type": "code",
   "execution_count": null,
   "metadata": {
    "application/vnd.databricks.v1+cell": {
     "cellMetadata": {
      "byteLimit": 2048000,
      "rowLimit": 10000
     },
     "inputWidgets": {},
     "nuid": "85c8a77f-2da9-48be-89d6-3714b8d4a697",
     "showTitle": false,
     "title": ""
    },
    "colab": {
     "base_uri": "https://localhost:8080/"
    },
    "executionInfo": {
     "elapsed": 2337,
     "status": "ok",
     "timestamp": 1717445422281,
     "user": {
      "displayName": "Trung Trần Quốc",
      "userId": "02388482929733914680"
     },
     "user_tz": -420
    },
    "id": "uj9EaLKQP4OZ",
    "outputId": "48c26458-09b7-4051-80bd-afa0e7239553"
   },
   "outputs": [
    {
     "name": "stdout",
     "output_type": "stream",
     "text": [
      "+--------+\n",
      "|currency|\n",
      "+--------+\n",
      "|    NULL|\n",
      "|       T|\n",
      "|       B|\n",
      "|       ¥|\n",
      "|       M|\n",
      "|       ₹|\n",
      "|       C|\n",
      "|       N|\n",
      "|       S|\n",
      "|       R|\n",
      "|       ₱|\n",
      "|       $|\n",
      "|       £|\n",
      "|       €|\n",
      "|       H|\n",
      "|       E|\n",
      "|       I|\n",
      "|       A|\n",
      "|       ₩|\n",
      "|       ₫|\n",
      "+--------+\n",
      "\n"
     ]
    }
   ],
   "source": [
    "spark_df.withColumn('currency', spark_df['budget'].substr(1, 1)).select(col(\"currency\")).distinct().show()"
   ]
  },
  {
   "cell_type": "markdown",
   "metadata": {
    "application/vnd.databricks.v1+cell": {
     "cellMetadata": {},
     "inputWidgets": {},
     "nuid": "ea9aa49c-d9cf-4f98-b5a4-1077364ae25f",
     "showTitle": false,
     "title": ""
    },
    "id": "UuqZdo7S3AkT"
   },
   "source": [
    "Transform to a unified currency - milion usd"
   ]
  },
  {
   "cell_type": "code",
   "execution_count": null,
   "metadata": {
    "application/vnd.databricks.v1+cell": {
     "cellMetadata": {
      "byteLimit": 2048000,
      "rowLimit": 10000
     },
     "inputWidgets": {},
     "nuid": "c664e315-bf2b-46ab-96fd-ef8c05f275dd",
     "showTitle": false,
     "title": ""
    },
    "id": "FtZsiFwZ3FHn"
   },
   "outputs": [],
   "source": [
    "pandas_df = spark_df.toPandas()"
   ]
  },
  {
   "cell_type": "code",
   "execution_count": null,
   "metadata": {
    "application/vnd.databricks.v1+cell": {
     "cellMetadata": {
      "byteLimit": 2048000,
      "rowLimit": 10000
     },
     "inputWidgets": {},
     "nuid": "8b0aa865-b006-4454-8e7b-6ce2c9c5b8e7",
     "showTitle": false,
     "title": ""
    },
    "id": "t5sQTCvx3cFc"
   },
   "outputs": [
    {
     "data": {
      "text/plain": [
       "\u001b[0;31m---------------------------------------------------------------------------\u001b[0m\n",
       "\u001b[0;31mNameError\u001b[0m                                 Traceback (most recent call last)\n",
       "File \u001b[0;32m<command-3841870613545322>, line 54\u001b[0m\n",
       "\u001b[1;32m     50\u001b[0m         number \u001b[38;5;241m=\u001b[39m number \u001b[38;5;241m*\u001b[39m \u001b[38;5;241m0.0095\u001b[39m\n",
       "\u001b[1;32m     51\u001b[0m     \u001b[38;5;28;01mreturn\u001b[39;00m number \u001b[38;5;241m/\u001b[39m \u001b[38;5;241m1000000\u001b[39m\n",
       "\u001b[0;32m---> 54\u001b[0m pandas_df[\u001b[38;5;124m'\u001b[39m\u001b[38;5;124mgross_global\u001b[39m\u001b[38;5;124m'\u001b[39m] \u001b[38;5;241m=\u001b[39m pandas_df[\u001b[38;5;124m'\u001b[39m\u001b[38;5;124mgross_global\u001b[39m\u001b[38;5;124m'\u001b[39m]\u001b[38;5;241m.\u001b[39mapply(\u001b[38;5;28;01mlambda\u001b[39;00m x: to_usd(x) \u001b[38;5;28;01mif\u001b[39;00m(\u001b[38;5;28mtype\u001b[39m(x) \u001b[38;5;241m==\u001b[39m \u001b[38;5;28mstr\u001b[39m) \u001b[38;5;28;01melse\u001b[39;00m x)\n",
       "\u001b[1;32m     55\u001b[0m pandas_df[\u001b[38;5;124m'\u001b[39m\u001b[38;5;124mbudget\u001b[39m\u001b[38;5;124m'\u001b[39m] \u001b[38;5;241m=\u001b[39m pandas_df[\u001b[38;5;124m'\u001b[39m\u001b[38;5;124mbudget\u001b[39m\u001b[38;5;124m'\u001b[39m]\u001b[38;5;241m.\u001b[39mapply(\u001b[38;5;28;01mlambda\u001b[39;00m x: to_usd(x) \u001b[38;5;28;01mif\u001b[39;00m(\u001b[38;5;28mtype\u001b[39m(x) \u001b[38;5;241m==\u001b[39m \u001b[38;5;28mstr\u001b[39m) \u001b[38;5;28;01melse\u001b[39;00m x)\n",
       "\n",
       "\u001b[0;31mNameError\u001b[0m: name 'pandas_df' is not defined"
      ]
     },
     "metadata": {
      "application/vnd.databricks.v1+output": {
       "arguments": {},
       "data": "\u001b[0;31m---------------------------------------------------------------------------\u001b[0m\n\u001b[0;31mNameError\u001b[0m                                 Traceback (most recent call last)\nFile \u001b[0;32m<command-3841870613545322>, line 54\u001b[0m\n\u001b[1;32m     50\u001b[0m         number \u001b[38;5;241m=\u001b[39m number \u001b[38;5;241m*\u001b[39m \u001b[38;5;241m0.0095\u001b[39m\n\u001b[1;32m     51\u001b[0m     \u001b[38;5;28;01mreturn\u001b[39;00m number \u001b[38;5;241m/\u001b[39m \u001b[38;5;241m1000000\u001b[39m\n\u001b[0;32m---> 54\u001b[0m pandas_df[\u001b[38;5;124m'\u001b[39m\u001b[38;5;124mgross_global\u001b[39m\u001b[38;5;124m'\u001b[39m] \u001b[38;5;241m=\u001b[39m pandas_df[\u001b[38;5;124m'\u001b[39m\u001b[38;5;124mgross_global\u001b[39m\u001b[38;5;124m'\u001b[39m]\u001b[38;5;241m.\u001b[39mapply(\u001b[38;5;28;01mlambda\u001b[39;00m x: to_usd(x) \u001b[38;5;28;01mif\u001b[39;00m(\u001b[38;5;28mtype\u001b[39m(x) \u001b[38;5;241m==\u001b[39m \u001b[38;5;28mstr\u001b[39m) \u001b[38;5;28;01melse\u001b[39;00m x)\n\u001b[1;32m     55\u001b[0m pandas_df[\u001b[38;5;124m'\u001b[39m\u001b[38;5;124mbudget\u001b[39m\u001b[38;5;124m'\u001b[39m] \u001b[38;5;241m=\u001b[39m pandas_df[\u001b[38;5;124m'\u001b[39m\u001b[38;5;124mbudget\u001b[39m\u001b[38;5;124m'\u001b[39m]\u001b[38;5;241m.\u001b[39mapply(\u001b[38;5;28;01mlambda\u001b[39;00m x: to_usd(x) \u001b[38;5;28;01mif\u001b[39;00m(\u001b[38;5;28mtype\u001b[39m(x) \u001b[38;5;241m==\u001b[39m \u001b[38;5;28mstr\u001b[39m) \u001b[38;5;28;01melse\u001b[39;00m x)\n\n\u001b[0;31mNameError\u001b[0m: name 'pandas_df' is not defined",
       "errorSummary": "<span class='ansi-red-fg'>NameError</span>: name 'pandas_df' is not defined",
       "errorTraceType": "ansi",
       "metadata": {},
       "type": "ipynbError"
      }
     },
     "output_type": "display_data"
    }
   ],
   "source": [
    "#get correct unit of money\n",
    "def get_unit(money):\n",
    "    money = money.replace(',', '')\n",
    "    unit = ''.join(x for x in money if not x.isdigit())\n",
    "    return unit\n",
    "#get number of money\n",
    "def get_number(money):\n",
    "    money = money.replace(',', '')\n",
    "    number = ''.join(x for x in money if x.isdigit())\n",
    "    return float(number)\n",
    "  #convert to milion usd\n",
    "def to_usd(money):\n",
    "    unit = get_unit(money)\n",
    "    number = get_number(money)\n",
    "    if unit == '$':\n",
    "        number = number\n",
    "    elif unit == '€':\n",
    "        number = number * 1.07\n",
    "    elif unit == '£':\n",
    "        number = number * 1.22\n",
    "    elif unit == '¥':\n",
    "        number = number * 0.0076\n",
    "    elif unit == '₩':\n",
    "        number = number * 0.0008\n",
    "    elif unit == '₹':\n",
    "        number = number * 0.012\n",
    "    elif unit == 'TRL\\xa0':\n",
    "        number = number * 0.053\n",
    "    elif unit == 'NOK\\xa0':\n",
    "        number = number * 0.1\n",
    "    elif unit == 'NOK\\xa0':\n",
    "        number = number * 0.1\n",
    "    elif unit == 'A$':\n",
    "        number = number * 0.69\n",
    "    elif unit == 'CA$':\n",
    "        number = number * 0.75\n",
    "    elif unit == 'DKK\\xa0':\n",
    "        number = number * 0.14\n",
    "    elif unit == 'SEK\\xa0':\n",
    "        number = number * 0.096\n",
    "    elif unit == 'MVR\\xa0':\n",
    "        number = number * 0.065\n",
    "    elif unit == 'NZ$':\n",
    "        number = number * 0.64\n",
    "    elif unit == 'PKR\\xa0':\n",
    "        number = number * 0.0044\n",
    "    elif unit == 'R$':\n",
    "        number = number * 0.19\n",
    "    elif unit == 'BDT\\xa0':\n",
    "        number = number * 0.0095\n",
    "    return number / 1000000\n",
    "\n",
    "\n",
    "pandas_df['gross_global'] = pandas_df['gross_global'].apply(lambda x: to_usd(x) if(type(x) == str) else x)\n",
    "pandas_df['budget'] = pandas_df['budget'].apply(lambda x: to_usd(x) if(type(x) == str) else x)"
   ]
  },
  {
   "cell_type": "markdown",
   "metadata": {
    "application/vnd.databricks.v1+cell": {
     "cellMetadata": {},
     "inputWidgets": {},
     "nuid": "e0c34fa3-13b9-4b41-bd9f-bef1c9fc39e1",
     "showTitle": false,
     "title": ""
    },
    "id": "jmKUUhbB41V2"
   },
   "source": [
    "### Distribution of each column"
   ]
  },
  {
   "cell_type": "markdown",
   "metadata": {
    "application/vnd.databricks.v1+cell": {
     "cellMetadata": {},
     "inputWidgets": {},
     "nuid": "81a41d70-f4e9-4d58-ad1f-3471571401f8",
     "showTitle": false,
     "title": ""
    },
    "id": "SwA55xtx5ArS"
   },
   "source": [
    "#### Numeric column"
   ]
  },
  {
   "cell_type": "code",
   "execution_count": null,
   "metadata": {
    "application/vnd.databricks.v1+cell": {
     "cellMetadata": {
      "byteLimit": 2048000,
      "rowLimit": 10000
     },
     "inputWidgets": {},
     "nuid": "28a38e8c-a1ca-4552-a8dd-cbbd9ddfbf2b",
     "showTitle": false,
     "title": ""
    },
    "colab": {
     "base_uri": "https://localhost:8080/",
     "height": 238
    },
    "executionInfo": {
     "elapsed": 673,
     "status": "ok",
     "timestamp": 1717448714819,
     "user": {
      "displayName": "Trung Trần Quốc",
      "userId": "02388482929733914680"
     },
     "user_tz": -420
    },
    "id": "PmecUu-s5DwO",
    "outputId": "1cba056d-d3ff-40c4-979c-bf47adb3e7d6"
   },
   "outputs": [
    {
     "data": {
      "text/html": [
       "<div>\n",
       "<style scoped>\n",
       "    .dataframe tbody tr th:only-of-type {\n",
       "        vertical-align: middle;\n",
       "    }\n",
       "\n",
       "    .dataframe tbody tr th {\n",
       "        vertical-align: top;\n",
       "    }\n",
       "\n",
       "    .dataframe thead th {\n",
       "        text-align: right;\n",
       "    }\n",
       "</style>\n",
       "<table border=\"1\" class=\"dataframe\">\n",
       "  <thead>\n",
       "    <tr style=\"text-align: right;\">\n",
       "      <th></th>\n",
       "      <th>release_date</th>\n",
       "      <th>vote_count</th>\n",
       "      <th>runtime</th>\n",
       "      <th>budget</th>\n",
       "      <th>gross_global</th>\n",
       "    </tr>\n",
       "  </thead>\n",
       "  <tbody>\n",
       "    <tr>\n",
       "      <th>missing_ratio</th>\n",
       "      <td>0.36</td>\n",
       "      <td>0.0</td>\n",
       "      <td>3.04</td>\n",
       "      <td>44.640000</td>\n",
       "      <td>44.640000</td>\n",
       "    </tr>\n",
       "    <tr>\n",
       "      <th>min</th>\n",
       "      <td>2023-01-01 00:00:00</td>\n",
       "      <td>118.0</td>\n",
       "      <td>17.00</td>\n",
       "      <td>0.000001</td>\n",
       "      <td>0.000001</td>\n",
       "    </tr>\n",
       "    <tr>\n",
       "      <th>lower_quartile</th>\n",
       "      <td>2023-04-14 00:00:00</td>\n",
       "      <td>382.0</td>\n",
       "      <td>93.00</td>\n",
       "      <td>0.055789</td>\n",
       "      <td>0.053304</td>\n",
       "    </tr>\n",
       "    <tr>\n",
       "      <th>median</th>\n",
       "      <td>2023-07-07 00:00:00</td>\n",
       "      <td>844.5</td>\n",
       "      <td>105.00</td>\n",
       "      <td>0.600000</td>\n",
       "      <td>0.497278</td>\n",
       "    </tr>\n",
       "    <tr>\n",
       "      <th>upper_quartile</th>\n",
       "      <td>2023-09-28 00:00:00</td>\n",
       "      <td>5000.0</td>\n",
       "      <td>122.00</td>\n",
       "      <td>8.304313</td>\n",
       "      <td>4.367464</td>\n",
       "    </tr>\n",
       "    <tr>\n",
       "      <th>max</th>\n",
       "      <td>2024-10-04 00:00:00</td>\n",
       "      <td>747000.0</td>\n",
       "      <td>266.00</td>\n",
       "      <td>70000.000000</td>\n",
       "      <td>70000.000000</td>\n",
       "    </tr>\n",
       "  </tbody>\n",
       "</table>\n",
       "</div>"
      ],
      "text/plain": [
       "                       release_date  vote_count  ...        budget  gross_global\n",
       "missing_ratio                  0.36         0.0  ...     44.640000     44.640000\n",
       "min             2023-01-01 00:00:00       118.0  ...      0.000001      0.000001\n",
       "lower_quartile  2023-04-14 00:00:00       382.0  ...      0.055789      0.053304\n",
       "median          2023-07-07 00:00:00       844.5  ...      0.600000      0.497278\n",
       "upper_quartile  2023-09-28 00:00:00      5000.0  ...      8.304313      4.367464\n",
       "max             2024-10-04 00:00:00    747000.0  ...  70000.000000  70000.000000\n",
       "\n",
       "[6 rows x 5 columns]"
      ]
     },
     "execution_count": 116,
     "metadata": {},
     "output_type": "execute_result"
    }
   ],
   "source": [
    "pandas_df['release_date'] = pd.to_datetime(pandas_df['release_date'])\n",
    "num_col_info_df = pandas_df.select_dtypes(exclude=['object'])\n",
    "def missing_ratio(s):\n",
    "    return (s.isna().mean() * 100)\n",
    "\n",
    "def median(pandas_df):\n",
    "    return (pandas_df.quantile(0.5))\n",
    "\n",
    "def lower_quartile(pandas_df):\n",
    "    return (pandas_df.quantile(0.25))\n",
    "\n",
    "def upper_quartile(pandas_df):\n",
    "    return (pandas_df.quantile(0.75))\n",
    "num_col_info_df = num_col_info_df.agg([missing_ratio , min, lower_quartile, median, upper_quartile, max])\n",
    "num_col_info_df"
   ]
  },
  {
   "cell_type": "markdown",
   "metadata": {
    "application/vnd.databricks.v1+cell": {
     "cellMetadata": {},
     "inputWidgets": {},
     "nuid": "570788bd-4754-4fca-8ae6-bfc263767042",
     "showTitle": false,
     "title": ""
    },
    "id": "PQxkWq3-7AD6"
   },
   "source": [
    "- `release_date` have in range *2023-01-01 to 2023-10-04* as we trigger the **HTTP azure function** in previous part\n",
    "- Other attributes seem non-abnormal"
   ]
  },
  {
   "cell_type": "markdown",
   "metadata": {
    "application/vnd.databricks.v1+cell": {
     "cellMetadata": {},
     "inputWidgets": {},
     "nuid": "c6526cbd-ffb9-400f-ade8-43dec2c99b8d",
     "showTitle": false,
     "title": ""
    },
    "id": "NT7AweDm7pqK"
   },
   "source": [
    "#### Categorical column"
   ]
  },
  {
   "cell_type": "code",
   "execution_count": null,
   "metadata": {
    "application/vnd.databricks.v1+cell": {
     "cellMetadata": {
      "byteLimit": 2048000,
      "rowLimit": 10000
     },
     "inputWidgets": {},
     "nuid": "8c02bc10-8eb1-436c-aba5-9cc4e972dc72",
     "showTitle": false,
     "title": ""
    },
    "colab": {
     "base_uri": "https://localhost:8080/"
    },
    "executionInfo": {
     "elapsed": 3,
     "status": "ok",
     "timestamp": 1717448959187,
     "user": {
      "displayName": "Trung Trần Quốc",
      "userId": "02388482929733914680"
     },
     "user_tz": -420
    },
    "id": "b9bbQ8TE7019",
    "outputId": "4e55cf6b-ba08-48f0-a296-02a6a358fef5"
   },
   "outputs": [
    {
     "data": {
      "text/plain": [
       "Index(['name', 'release_date', 'genre', 'certificate', 'vote_count', 'runtime',\n",
       "       'imdb_score', 'director', 'writter', 'stars', 'budget', 'gross_global',\n",
       "       'countries', 'language', 'locations', 'company', 'url'],\n",
       "      dtype='object')"
      ]
     },
     "execution_count": 117,
     "metadata": {},
     "output_type": "execute_result"
    }
   ],
   "source": [
    "pandas_df.columns"
   ]
  },
  {
   "cell_type": "code",
   "execution_count": null,
   "metadata": {
    "application/vnd.databricks.v1+cell": {
     "cellMetadata": {
      "byteLimit": 2048000,
      "rowLimit": 10000
     },
     "inputWidgets": {},
     "nuid": "52bfd7f7-acc8-42a3-b2d7-94bb9c88c0f7",
     "showTitle": false,
     "title": ""
    },
    "colab": {
     "base_uri": "https://localhost:8080/",
     "height": 210
    },
    "executionInfo": {
     "elapsed": 1129,
     "status": "ok",
     "timestamp": 1717450181042,
     "user": {
      "displayName": "Trung Trần Quốc",
      "userId": "02388482929733914680"
     },
     "user_tz": -420
    },
    "id": "SxaP-2Mt7qut",
    "outputId": "6c50c701-5d5f-4272-9bed-298d07a3c4e6"
   },
   "outputs": [
    {
     "data": {
      "text/html": [
       "<div>\n",
       "<style scoped>\n",
       "    .dataframe tbody tr th:only-of-type {\n",
       "        vertical-align: middle;\n",
       "    }\n",
       "\n",
       "    .dataframe tbody tr th {\n",
       "        vertical-align: top;\n",
       "    }\n",
       "\n",
       "    .dataframe thead th {\n",
       "        text-align: right;\n",
       "    }\n",
       "</style>\n",
       "<table border=\"1\" class=\"dataframe\">\n",
       "  <thead>\n",
       "    <tr style=\"text-align: right;\">\n",
       "      <th></th>\n",
       "      <th>name</th>\n",
       "      <th>genre</th>\n",
       "      <th>certificate</th>\n",
       "      <th>director</th>\n",
       "      <th>stars</th>\n",
       "      <th>countries</th>\n",
       "      <th>language</th>\n",
       "      <th>locations</th>\n",
       "      <th>company</th>\n",
       "    </tr>\n",
       "    <tr>\n",
       "      <th>Value</th>\n",
       "      <th></th>\n",
       "      <th></th>\n",
       "      <th></th>\n",
       "      <th></th>\n",
       "      <th></th>\n",
       "      <th></th>\n",
       "      <th></th>\n",
       "      <th></th>\n",
       "      <th></th>\n",
       "    </tr>\n",
       "  </thead>\n",
       "  <tbody>\n",
       "    <tr>\n",
       "      <th>missing_ratio%</th>\n",
       "      <td>0.0</td>\n",
       "      <td>0.0</td>\n",
       "      <td>0.0</td>\n",
       "      <td>0.0</td>\n",
       "      <td>0.0</td>\n",
       "      <td>0.0</td>\n",
       "      <td>0.0</td>\n",
       "      <td>0.0</td>\n",
       "      <td>0.0</td>\n",
       "    </tr>\n",
       "    <tr>\n",
       "      <th>num_diff_vals</th>\n",
       "      <td>2111</td>\n",
       "      <td>456</td>\n",
       "      <td>156</td>\n",
       "      <td>2108</td>\n",
       "      <td>2204</td>\n",
       "      <td>329</td>\n",
       "      <td>376</td>\n",
       "      <td>714</td>\n",
       "      <td>2247</td>\n",
       "    </tr>\n",
       "    <tr>\n",
       "      <th>diff_vals</th>\n",
       "      <td>[Pathaan, Duyên, Gỗ, Sao, Địa, Này, Tích, Pool...</td>\n",
       "      <td>[['Action' 'Adventure' 'Sci-Fi' 'Thriller'], [...</td>\n",
       "      <td>[Not Rated, C16, C18, R, TV-MA, TV-PG, PG-13, ...</td>\n",
       "      <td>[Siddharth Anand, Celine Song, M. Night Shyama...</td>\n",
       "      <td>[['Shah Rukh Khan' 'Deepika Padukone' 'John Ab...</td>\n",
       "      <td>[India, United States, South Korea, United Sta...</td>\n",
       "      <td>[['Hindi' 'English' 'Russian'], ['Korean' 'Eng...</td>\n",
       "      <td>[['Dubai' 'United Arab Emirates'], ['Madison S...</td>\n",
       "      <td>[['Yash Raj Films'], ['A24' 'CJ ENM Co.' 'Kill...</td>\n",
       "    </tr>\n",
       "  </tbody>\n",
       "</table>\n",
       "</div>"
      ],
      "text/plain": [
       "                                                             name  ...                                            company\n",
       "Value                                                              ...                                                   \n",
       "missing_ratio%                                                0.0  ...                                                0.0\n",
       "num_diff_vals                                                2111  ...                                               2247\n",
       "diff_vals       [Pathaan, Duyên, Gỗ, Sao, Địa, Này, Tích, Pool...  ...  [['Yash Raj Films'], ['A24' 'CJ ENM Co.' 'Kill...\n",
       "\n",
       "[3 rows x 9 columns]"
      ]
     },
     "execution_count": 119,
     "metadata": {},
     "output_type": "execute_result"
    }
   ],
   "source": [
    "#get missing ratio, number of different and different values\n",
    "def tuplizer(x):\n",
    "    return tuple(x) if isinstance(x, (np.ndarray, list)) else x\n",
    "def get_cate_col_profiles(df, cate_col):\n",
    "    missing_ratio = []\n",
    "    num_diff_vals = []\n",
    "    diff_vals = []\n",
    "\n",
    "    for col in cate_col:\n",
    "        rows = df[col].dropna()\n",
    "        missing_ratio.append(100 - len(rows) / n_rows * 100)\n",
    "        diff_val = rows.to_list()\n",
    "        if type(rows) == list:\n",
    "            diff_val = pd.Series(sum(diff_val, [])).unique()\n",
    "        else:\n",
    "            diff_val = pd.Series(diff_val).apply(lambda x: str(x)).unique()\n",
    "        num_diff_vals.append(len(diff_val))\n",
    "        diff_vals.append(diff_val)\n",
    "    profile = pd.DataFrame(([missing_ratio, num_diff_vals, diff_vals]), columns = cate_col)\n",
    "\n",
    "    index = pd.Series([\"missing_ratio%\", \"num_diff_vals\", \"diff_vals\"])\n",
    "    profile['Value'] = index\n",
    "    profile = pd.DataFrame(profile.set_index('Value'))\n",
    "\n",
    "    return profile\n",
    "cate_col = ['name', 'genre', 'certificate', 'director', 'stars',\n",
    "             'countries', 'language', 'locations', 'company']\n",
    "cate_col_profiles_df = get_cate_col_profiles(pandas_df, cate_col)\n",
    "cate_col_profiles_df"
   ]
  }
 ],
 "metadata": {
  "application/vnd.databricks.v1+notebook": {
   "dashboards": [],
   "environmentMetadata": null,
   "language": "python",
   "notebookMetadata": {
    "mostRecentlyExecutedCommandWithImplicitDF": {
     "commandId": 394618973676033,
     "dataframes": [
      "_sqldf"
     ]
    },
    "pythonIndentUnit": 4
   },
   "notebookName": "transformation",
   "widgets": {}
  },
  "colab": {
   "collapsed_sections": [
    "0vh10FmAHbya"
   ],
   "provenance": []
  },
  "kernelspec": {
   "display_name": "etl",
   "language": "python",
   "name": "python3"
  },
  "language_info": {
   "codemirror_mode": {
    "name": "ipython",
    "version": 3
   },
   "file_extension": ".py",
   "mimetype": "text/x-python",
   "name": "python",
   "nbconvert_exporter": "python",
   "pygments_lexer": "ipython3",
   "version": "3.11.5"
  }
 },
 "nbformat": 4,
 "nbformat_minor": 0
}
