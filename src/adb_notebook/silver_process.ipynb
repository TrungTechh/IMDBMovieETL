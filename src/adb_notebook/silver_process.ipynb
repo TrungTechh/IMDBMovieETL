{
 "cells": [
  {
   "cell_type": "code",
   "execution_count": 0,
   "metadata": {
    "application/vnd.databricks.v1+cell": {
     "cellMetadata": {
      "byteLimit": 2048000,
      "rowLimit": 10000
     },
     "inputWidgets": {},
     "nuid": "25517e6f-53f4-4f46-bd63-1816a2e072b6",
     "showTitle": false,
     "title": ""
    }
   },
   "outputs": [],
   "source": [
    "%run \"/Workspace/Users/20127275@student.hcmus.edu.vn/pipeline_function\""
   ]
  },
  {
   "cell_type": "code",
   "execution_count": 0,
   "metadata": {
    "application/vnd.databricks.v1+cell": {
     "cellMetadata": {
      "byteLimit": 2048000,
      "rowLimit": 10000
     },
     "inputWidgets": {},
     "nuid": "50c579b4-d8ce-4683-b70b-223b871cc991",
     "showTitle": false,
     "title": ""
    }
   },
   "outputs": [
    {
     "output_type": "stream",
     "name": "stdout",
     "output_type": "stream",
     "text": [
      "Container 'silver' is already mounted.\n"
     ]
    },
    {
     "output_type": "execute_result",
     "data": {
      "text/plain": [
       "False"
      ]
     },
     "execution_count": 8,
     "metadata": {},
     "output_type": "execute_result"
    }
   ],
   "source": [
    "container_name = \"silver\"\n",
    "mount_path = \"/mnt/silver\"\n",
    "acount_storage = \"moviescrapingsa\"\n",
    "client_id = \"2eb4937d-283b-4815-8bb1-cafe767400c9\"\n",
    "directory_id = \"40127cd4-45f3-49a3-b05d-315a43a9f033\"\n",
    "mount_container(container_name, mount_path, acount_storage , client_id ,directory_id)"
   ]
  },
  {
   "cell_type": "code",
   "execution_count": 0,
   "metadata": {
    "application/vnd.databricks.v1+cell": {
     "cellMetadata": {},
     "inputWidgets": {},
     "nuid": "aa0f9a53-ddd3-434c-8543-66a3fc39e2c2",
     "showTitle": false,
     "title": ""
    }
   },
   "outputs": [],
   "source": [
    "spark.sql(\"set spark.sql.legacy.timeParserPolicy=LEGACY\")\n",
    "\n",
    "bronze_base_dir='/mnt/bronze'\n",
    "silver_base_dir='/mnt/silver'\n",
    "silver_read_path=bronze_base_dir\n",
    "\n",
    "silver=SilverBDS(bronze_base_dir,silver_base_dir,silver_base_dir)\n",
    "\n",
    "slQuery=silver.process(dbutils.widgets.get(\"trigger\"))\n"
   ]
  }
 ],
 "metadata": {
  "application/vnd.databricks.v1+notebook": {
   "dashboards": [],
   "environmentMetadata": null,
   "language": "python",
   "notebookMetadata": {
    "pythonIndentUnit": 4
   },
   "notebookName": "silver process",
   "widgets": {
    "trigger": {
     "currentValue": "batch",
     "nuid": "41d5d799-8f0a-4455-864f-9c60001744ae",
     "typedWidgetInfo": null,
     "widgetInfo": {
      "widgetType": "text",
      "defaultValue": "batch",
      "label": "",
      "name": "trigger",
      "options": {
       "widgetType": "text",
       "autoCreated": false,
       "validationRegex": null
      }
     }
    }
   }
  }
 },
 "nbformat": 4,
 "nbformat_minor": 0
}
