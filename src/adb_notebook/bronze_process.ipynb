{
 "cells": [
  {
   "cell_type": "code",
   "execution_count": 0,
   "metadata": {
    "application/vnd.databricks.v1+cell": {
     "cellMetadata": {
      "byteLimit": 2048000,
      "rowLimit": 10000
     },
     "inputWidgets": {},
     "nuid": "78d97a3f-1d17-416b-82bf-7c25191f0f10",
     "showTitle": false,
     "title": ""
    }
   },
   "outputs": [],
   "source": [
    "%run \"/Workspace/Users/20127275@student.hcmus.edu.vn/pipeline_function\""
   ]
  },
  {
   "cell_type": "code",
   "execution_count": 0,
   "metadata": {
    "application/vnd.databricks.v1+cell": {
     "cellMetadata": {
      "byteLimit": 2048000,
      "rowLimit": 10000
     },
     "inputWidgets": {},
     "nuid": "1c654c81-6a2c-4eb0-8d3c-4e94e285ba88",
     "showTitle": false,
     "title": ""
    }
   },
   "outputs": [
    {
     "output_type": "stream",
     "name": "stdout",
     "output_type": "stream",
     "text": [
      "Container 'bronze' is already mounted.\n"
     ]
    },
    {
     "output_type": "execute_result",
     "data": {
      "text/plain": [
       "False"
      ]
     },
     "execution_count": 9,
     "metadata": {},
     "output_type": "execute_result"
    }
   ],
   "source": [
    "container_name = \"bronze\"\n",
    "mount_path = \"/mnt/bronze\"\n",
    "acount_storage = \"moviescrapingsa\"\n",
    "client_id = \"2eb4937d-283b-4815-8bb1-cafe767400c9\"\n",
    "directory_id = \"40127cd4-45f3-49a3-b05d-315a43a9f033\"\n",
    "mount_container(container_name, mount_path, acount_storage , client_id ,directory_id)"
   ]
  },
  {
   "cell_type": "code",
   "execution_count": 0,
   "metadata": {
    "application/vnd.databricks.v1+cell": {
     "cellMetadata": {},
     "inputWidgets": {},
     "nuid": "a2ebe3cf-30f2-4068-a1c6-6d03891ac165",
     "showTitle": false,
     "title": ""
    }
   },
   "outputs": [],
   "source": [
    "bronze_base_dir='/mnt/bronze'\n",
    "bronze_read_path='/mnt/bronze/bronze'\n",
    "\n",
    "bronze=BronzeBDS(bronze_read_path,bronze_base_dir,bronze_base_dir)\n",
    "\n",
    "# Trigger as batch pipeline, change this parameter if you want stream pipeline\n",
    "\n",
    "bzQuery=bronze.process(dbutils.widgets.get(\"trigger\"))\n",
    "\n"
   ]
  }
 ],
 "metadata": {
  "application/vnd.databricks.v1+notebook": {
   "dashboards": [],
   "environmentMetadata": null,
   "language": "python",
   "notebookMetadata": {
    "pythonIndentUnit": 4
   },
   "notebookName": "bronze notebook",
   "widgets": {
    "trigger": {
     "currentValue": "batch",
     "nuid": "562b8873-d4d0-4578-a132-5468c43caffe",
     "typedWidgetInfo": null,
     "widgetInfo": {
      "widgetType": "text",
      "defaultValue": "batch",
      "label": "",
      "name": "trigger",
      "options": {
       "widgetType": "text",
       "autoCreated": false,
       "validationRegex": null
      }
     }
    }
   }
  }
 },
 "nbformat": 4,
 "nbformat_minor": 0
}
